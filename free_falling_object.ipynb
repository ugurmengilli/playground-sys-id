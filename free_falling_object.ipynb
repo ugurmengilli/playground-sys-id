{
 "cells": [
  {
   "metadata": {},
   "cell_type": "markdown",
   "source": [
    "# System Identification of a Freely Falling Ball\n",
    "\n",
    "The data in `data/falling_object.npy` provides the motion of a ball (only its position), freely falling (without friction) under the gravity of one of the solar system's planets. You are supposed to find which planet the ball is closest to. Perform this task in two different ways:\n",
    "\n",
    "1. Implement the adjoint differentiation method in Python/JAX and use the gradients provided by this method to figure out the gravitational constant.\n",
    "2. Use JAX 's built-in functions `jax.grad` or `jax.value_and_grad` to replace the adjoint differentiation method and repeat the task.\n",
    "3. Do both methods converge? Which method is faster? Can you make JAX 's grad (or value_and_grad) work faster?\n",
    "\n",
    "The data contains 1000 floats that correspond to the vertical motion of the ball. Each time step corresponds to 0.001 seconds of motion. The time interval between the initial and final time step is thus 1 second."
   ],
   "id": "f85595bd9de85c52"
  },
  {
   "metadata": {
    "ExecuteTime": {
     "end_time": "2025-03-04T15:04:21.479135Z",
     "start_time": "2025-03-04T15:04:19.262885Z"
    }
   },
   "cell_type": "code",
   "source": [
    "from data import fallingobject\n",
    "\n",
    "# Load height trajectory of the object.\n",
    "ut, t_eval, dt = fallingobject.load_data()"
   ],
   "id": "44dac78cd0074d49",
   "outputs": [],
   "execution_count": 1
  },
  {
   "metadata": {},
   "cell_type": "markdown",
   "source": [
    "## Problem Definition\n",
    "\n",
    "The following second-order ODE represents the system behavior.\n",
    "$$\n",
    "    \\frac{d^2x}{dt^2} = \\ddot x = g,            \\tag{1}\n",
    "$$\n",
    "where $x$ is the height of the object and $g$ is the unknown gravitational acceleration.\n",
    "An analytical solution $x(t)$ of this simple ODE follows from double integration:\n",
    "$$\n",
    "    v(t) = \\int_{0}^{t} g d\\tau = v(0) + g t,   \\tag{2}\n",
    "$$$$\n",
    "    x(t) = \\int_{0}^{t} v(\\tau) d\\tau = x(0) + v(0) t + \\frac{1}{2} g t^2.  \\tag{3}\n",
    "$$\n",
    "Given the measurements, we know the initial position $x(0)$, but the initial velocity $v(0)$ and $g$ are unknown.\n",
    "Since Eq. (3) is linear in the unknown parameters, we can find the least-square estimate of $v(0)$ and $g$, but the solution will serve as **ground truth values** for the subsequent analyses."
   ],
   "id": "e041b8b0fc51b7a3"
  },
  {
   "metadata": {
    "ExecuteTime": {
     "end_time": "2025-03-04T15:04:21.899515Z",
     "start_time": "2025-03-04T15:04:21.492472Z"
    }
   },
   "cell_type": "code",
   "source": [
    "import numpy as np\n",
    "# Coefficient matrix of the unknown vector (v0, g) and the RHS of eq.\n",
    "A = np.array([[t, 0.5*t*t] for t in t_eval])\n",
    "b = np.array(ut - ut[0]).reshape(-1)\n",
    "# Least squared estimate of the unknowns.\n",
    "x, _, _, _ = np.linalg.lstsq(A, b, rcond=None)\n",
    "g_best = x[1]\n",
    "v0_best = x[0]\n",
    "print(f\"LS estimate of grav. acc.: {g_best:.5f}\")\n",
    "print(f\"LS estimate of init. vel.: {v0_best:.5f}\")"
   ],
   "id": "3fdbe6fef7a1bd94",
   "outputs": [
    {
     "name": "stdout",
     "output_type": "stream",
     "text": [
      "LS estimate of grav. acc.: -3.70002\n",
      "LS estimate of init. vel.: 0.10185\n"
     ]
    }
   ],
   "execution_count": 2
  }
 ],
 "metadata": {
  "kernelspec": {
   "display_name": "Python 3",
   "language": "python",
   "name": "python3"
  },
  "language_info": {
   "codemirror_mode": {
    "name": "ipython",
    "version": 2
   },
   "file_extension": ".py",
   "mimetype": "text/x-python",
   "name": "python",
   "nbconvert_exporter": "python",
   "pygments_lexer": "ipython2",
   "version": "2.7.6"
  }
 },
 "nbformat": 4,
 "nbformat_minor": 5
}
